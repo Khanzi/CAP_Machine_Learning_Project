{
 "cells": [
  {
   "cell_type": "markdown",
   "metadata": {},
   "source": [
    "# Twitter Sentiment Analyzer\n",
    "\n",
    "## Machine Learning\n",
    "### Section 1\n",
    "\n",
    "#### Group 6:\n",
    "- Kahlil Wehmeyer\n",
    "- Jacqueline Gauthier\n",
    "- Richard Cruz\n",
    "- Luke Rhon\n",
    "- Diego De La Torre\n",
    "***\n",
    "<P style=\"page-break-before: always\">"
   ]
  },
  {
   "cell_type": "markdown",
   "metadata": {},
   "source": [
    "## Problem\n",
    "\n",
    "Social media has a very important role in society. Companies utilize social media to advertise their products and address customer service issues. Also, companies gauge public opinion of their products and services through social media. A person’s opinion is freely and honestly stated on any number of social media platforms for the world to see.\n",
    "\t\n",
    "People often use a platform like twitter as an outlet. They would have an opinion or a fact they would like to share, and proceed to post it on their profile. Getting an opinion from a customer about their service is something that companies usually must spend considerable effort and money to achieve. Even then, a solicited response might be biased, or be impossible to achieve if the customer refuses. Twitter is a free source of sentiment waiting to be collected by anyone with the tools.\n",
    "\t\n",
    "There is a space for a twitter sentiment analyzer to be implemented. While there may be some companies already polling their companies public opinion from social media, this information isn’t readily available for anyone to utilize. Anyone may read information given to the public by journalists on the news, but there isn’t a well known, working service that complies sentiment and gives a rating on whatever subject desired.\n",
    "\n",
    "## Solution\n",
    "\n",
    "\n",
    "The Twitter Sentiment Analyzer is a tool that will predict the sentiment of a specific tweet after training on  a training set of labeled tweets. The goal is to correctly label each new tweet with the correct label. These new and recent tweets will be used to gauge the public sentiment for a specific topic. All this data will be collected and displayed in a format specific to our users.\n",
    "\t\n",
    "The Sentiment Score is an arbitrary score the project team is developing to determine public sentiment toward a specific subject. This score will take in account the amount of favorites and retweets a tweet has, the content of each tweet, and whether or not the origin of the tweet is verified. Whatever data is collected on a specific subject will be weighted and graded to develop a specific number, this is the Sentiment Score.\n",
    "\n",
    "This method of grading a subject is very simple to do through a twitter API (Application Programming Interface). Using the hashtag for a whichever subject we are attempting to query, we may obtain a limited amount of tweets to use for training data. The amount of tweets is limited by the specific API we use. It is possible to maintain a separate catalogue of tweets as a training data set.\n",
    "\t\n",
    "# Features\n",
    "\n",
    "# API\n",
    "\n",
    "This is how we connect to the API"
   ]
  },
  {
   "cell_type": "code",
   "execution_count": 1,
   "metadata": {},
   "outputs": [],
   "source": [
    "import tweepy\n",
    "import pandas as pd\n",
    "import json\n",
    "from textblob import TextBlob\n",
    "import re\n",
    "\n",
    "# Authentication\n",
    "\n",
    "CONSUMER_KEY ='Lp7p3I3Yc35DUg5x8ToGUxVtV'\n",
    "CONSUMER_SECRET = 'Ltm3JEJTnT7w1pY12FjQvOVwi1WWt5rFowD1gqw2fcDjY5HZAs'\n",
    "\n",
    "ACCESS_KEY = '724658688061902848-UPUXPU4H8SlSWe7Z0mh8GJXSdfQm9FM'\n",
    "ACCESS_SECRET = 'ujK7JhUOf7o6Lva093YGT6TVComkrplT7oUJHOInolTxm'\n",
    "\n",
    "\n",
    "# Authenticate \n",
    "auth = tweepy.OAuthHandler(consumer_key=CONSUMER_KEY, \n",
    "    consumer_secret=CONSUMER_SECRET)\n",
    "\n",
    "#Connect to the Twitter API using the authentication\n",
    "api = tweepy.API(auth)"
   ]
  },
  {
   "cell_type": "markdown",
   "metadata": {},
   "source": [
    "The following is a function we created to map the JSON output of `api.search(\"query\")` to a `pandas` data frame."
   ]
  },
  {
   "cell_type": "code",
   "execution_count": 2,
   "metadata": {},
   "outputs": [],
   "source": [
    "def search(query):\n",
    "    \n",
    "    tweets = api.search(q=query)\n",
    "\n",
    "    DataSet = pd.DataFrame()\n",
    "\n",
    "    DataSet['tweetID'] = [tweet.id for tweet in tweets]\n",
    "    DataSet['tweetText'] = [tweet.text for tweet in tweets]\n",
    "    DataSet['tweetRetweetCt'] = [tweet.retweet_count for tweet \n",
    "    in tweets]\n",
    "    DataSet['tweetFavoriteCt'] = [tweet.favorite_count for tweet \n",
    "    in tweets]\n",
    "    DataSet['tweetSource'] = [tweet.source for tweet in tweets]\n",
    "    DataSet['tweetCreated'] = [tweet.created_at for tweet in tweets]\n",
    "\n",
    "\n",
    "    DataSet['userID'] = [tweet.user.id for tweet in tweets]\n",
    "    DataSet['userScreen'] = [tweet.user.screen_name for tweet \n",
    "    in tweets]\n",
    "    DataSet['userName'] = [tweet.user.name for tweet in tweets]\n",
    "    DataSet['userCreateDt'] = [tweet.user.created_at for tweet \n",
    "    in tweets]\n",
    "    DataSet['userDesc'] = [tweet.user.description for tweet in tweets]\n",
    "    DataSet['userFollowerCt'] = [tweet.user.followers_count for tweet \n",
    "    in tweets]\n",
    "    DataSet['userFriendsCt'] = [tweet.user.friends_count for tweet \n",
    "    in tweets]\n",
    "    DataSet['userLocation'] = [tweet.user.location for tweet in tweets]\n",
    "    DataSet['userTimezone'] = [tweet.user.time_zone for tweet \n",
    "    in tweets]\n",
    "\n",
    "    return DataSet"
   ]
  },
  {
   "cell_type": "markdown",
   "metadata": {},
   "source": [
    "Here is an example query using the custom search function and it's related output."
   ]
  },
  {
   "cell_type": "code",
   "execution_count": 3,
   "metadata": {},
   "outputs": [
    {
     "data": {
      "text/html": [
       "<div>\n",
       "<style scoped>\n",
       "    .dataframe tbody tr th:only-of-type {\n",
       "        vertical-align: middle;\n",
       "    }\n",
       "\n",
       "    .dataframe tbody tr th {\n",
       "        vertical-align: top;\n",
       "    }\n",
       "\n",
       "    .dataframe thead th {\n",
       "        text-align: right;\n",
       "    }\n",
       "</style>\n",
       "<table border=\"1\" class=\"dataframe\">\n",
       "  <thead>\n",
       "    <tr style=\"text-align: right;\">\n",
       "      <th></th>\n",
       "      <th>tweetID</th>\n",
       "      <th>tweetText</th>\n",
       "      <th>tweetRetweetCt</th>\n",
       "      <th>tweetFavoriteCt</th>\n",
       "      <th>tweetSource</th>\n",
       "      <th>tweetCreated</th>\n",
       "      <th>userID</th>\n",
       "      <th>userScreen</th>\n",
       "      <th>userName</th>\n",
       "      <th>userCreateDt</th>\n",
       "      <th>userDesc</th>\n",
       "      <th>userFollowerCt</th>\n",
       "      <th>userFriendsCt</th>\n",
       "      <th>userLocation</th>\n",
       "      <th>userTimezone</th>\n",
       "    </tr>\n",
       "  </thead>\n",
       "  <tbody>\n",
       "    <tr>\n",
       "      <th>0</th>\n",
       "      <td>1106341551272267776</td>\n",
       "      <td>42mm 44mm HTF Rare Flat Silver/volt Nike Apple...</td>\n",
       "      <td>0</td>\n",
       "      <td>0</td>\n",
       "      <td>IFTTT</td>\n",
       "      <td>2019-03-14 23:49:15</td>\n",
       "      <td>2154663974</td>\n",
       "      <td>ebay_cellphone</td>\n",
       "      <td>cell phones</td>\n",
       "      <td>2013-10-25 11:02:12</td>\n",
       "      <td>iPhone 6s, iPhone 7, P9, Mate 8, Galaxy S7 or ...</td>\n",
       "      <td>309</td>\n",
       "      <td>177</td>\n",
       "      <td>New York, USA</td>\n",
       "      <td>None</td>\n",
       "    </tr>\n",
       "    <tr>\n",
       "      <th>1</th>\n",
       "      <td>1106341548080418817</td>\n",
       "      <td>Spotify takes a slice out of ‘unfair’ Apple ta...</td>\n",
       "      <td>0</td>\n",
       "      <td>0</td>\n",
       "      <td>Twitter Web Client</td>\n",
       "      <td>2019-03-14 23:49:14</td>\n",
       "      <td>1343382872</td>\n",
       "      <td>vajapeyam</td>\n",
       "      <td>Anand K.Vajapeyam</td>\n",
       "      <td>2013-04-11 02:48:58</td>\n",
       "      <td>When will Indians in general get out of \"DYNAS...</td>\n",
       "      <td>3417</td>\n",
       "      <td>4556</td>\n",
       "      <td>India</td>\n",
       "      <td>None</td>\n",
       "    </tr>\n",
       "    <tr>\n",
       "      <th>2</th>\n",
       "      <td>1106341547904258048</td>\n",
       "      <td>@Matheus92217418 @Apple Valeu, manoooo!!</td>\n",
       "      <td>0</td>\n",
       "      <td>0</td>\n",
       "      <td>Twitter for iPhone</td>\n",
       "      <td>2019-03-14 23:49:14</td>\n",
       "      <td>42302789</td>\n",
       "      <td>lucaswild</td>\n",
       "      <td>Higher Further Faster</td>\n",
       "      <td>2009-05-24 23:24:04</td>\n",
       "      <td>I’m just like you. Maybe with a wild heart! Jo...</td>\n",
       "      <td>1387</td>\n",
       "      <td>2793</td>\n",
       "      <td>Recife - Pernambuco - Brasil</td>\n",
       "      <td>None</td>\n",
       "    </tr>\n",
       "    <tr>\n",
       "      <th>3</th>\n",
       "      <td>1106341547094745088</td>\n",
       "      <td>Sister of One Direction singer Louis Tomlinson...</td>\n",
       "      <td>0</td>\n",
       "      <td>0</td>\n",
       "      <td>Twitter for iPhone</td>\n",
       "      <td>2019-03-14 23:49:14</td>\n",
       "      <td>753127347881123840</td>\n",
       "      <td>liquidator999</td>\n",
       "      <td>Liquidator</td>\n",
       "      <td>2016-07-13 07:22:07</td>\n",
       "      <td>U iščekivanju vraćanja strasti</td>\n",
       "      <td>135</td>\n",
       "      <td>113</td>\n",
       "      <td>Distropia Stradija</td>\n",
       "      <td>None</td>\n",
       "    </tr>\n",
       "    <tr>\n",
       "      <th>4</th>\n",
       "      <td>1106341546700345344</td>\n",
       "      <td>What the hell is Maple Apple Crumb Pie? https:...</td>\n",
       "      <td>0</td>\n",
       "      <td>0</td>\n",
       "      <td>Twitter for iPhone</td>\n",
       "      <td>2019-03-14 23:49:14</td>\n",
       "      <td>22642848</td>\n",
       "      <td>24thminute</td>\n",
       "      <td>Duane Rollins</td>\n",
       "      <td>2009-03-03 16:40:12</td>\n",
       "      <td>Host of SoccerToday, live M-F at 11a ET — #MLS...</td>\n",
       "      <td>8397</td>\n",
       "      <td>7624</td>\n",
       "      <td>Toronto</td>\n",
       "      <td>None</td>\n",
       "    </tr>\n",
       "  </tbody>\n",
       "</table>\n",
       "</div>"
      ],
      "text/plain": [
       "               tweetID                                          tweetText  \\\n",
       "0  1106341551272267776  42mm 44mm HTF Rare Flat Silver/volt Nike Apple...   \n",
       "1  1106341548080418817  Spotify takes a slice out of ‘unfair’ Apple ta...   \n",
       "2  1106341547904258048           @Matheus92217418 @Apple Valeu, manoooo!!   \n",
       "3  1106341547094745088  Sister of One Direction singer Louis Tomlinson...   \n",
       "4  1106341546700345344  What the hell is Maple Apple Crumb Pie? https:...   \n",
       "\n",
       "   tweetRetweetCt  tweetFavoriteCt         tweetSource        tweetCreated  \\\n",
       "0               0                0               IFTTT 2019-03-14 23:49:15   \n",
       "1               0                0  Twitter Web Client 2019-03-14 23:49:14   \n",
       "2               0                0  Twitter for iPhone 2019-03-14 23:49:14   \n",
       "3               0                0  Twitter for iPhone 2019-03-14 23:49:14   \n",
       "4               0                0  Twitter for iPhone 2019-03-14 23:49:14   \n",
       "\n",
       "               userID      userScreen               userName  \\\n",
       "0          2154663974  ebay_cellphone            cell phones   \n",
       "1          1343382872       vajapeyam      Anand K.Vajapeyam   \n",
       "2            42302789       lucaswild  Higher Further Faster   \n",
       "3  753127347881123840   liquidator999             Liquidator   \n",
       "4            22642848      24thminute          Duane Rollins   \n",
       "\n",
       "         userCreateDt                                           userDesc  \\\n",
       "0 2013-10-25 11:02:12  iPhone 6s, iPhone 7, P9, Mate 8, Galaxy S7 or ...   \n",
       "1 2013-04-11 02:48:58  When will Indians in general get out of \"DYNAS...   \n",
       "2 2009-05-24 23:24:04  I’m just like you. Maybe with a wild heart! Jo...   \n",
       "3 2016-07-13 07:22:07                     U iščekivanju vraćanja strasti   \n",
       "4 2009-03-03 16:40:12  Host of SoccerToday, live M-F at 11a ET — #MLS...   \n",
       "\n",
       "   userFollowerCt  userFriendsCt                  userLocation userTimezone  \n",
       "0             309            177                 New York, USA         None  \n",
       "1            3417           4556                         India         None  \n",
       "2            1387           2793  Recife - Pernambuco - Brasil         None  \n",
       "3             135            113            Distropia Stradija         None  \n",
       "4            8397           7624                       Toronto         None  "
      ]
     },
     "execution_count": 3,
     "metadata": {},
     "output_type": "execute_result"
    }
   ],
   "source": [
    "example = search(\"Apple\").head(5)\n",
    "example"
   ]
  },
  {
   "cell_type": "markdown",
   "metadata": {},
   "source": [
    "## Clean Data\n",
    "\n",
    "Development of a function to clean whatever tweets we obtain from Twitter. This function will get rid of mentions, links and any unnecessary special characters. The purpose of this function is to make the data more streamlined for the model to train from, and make the tweets easier to look at on the API UI. It will take a tweet text as input, create a new tweet omitting any undesired portions of the original, and return a clean tweet.\n",
    "\n",
    "Here is the initial draft for that function."
   ]
  },
  {
   "cell_type": "code",
   "execution_count": 4,
   "metadata": {},
   "outputs": [],
   "source": [
    "def clean_tweet(tweet):\n",
    "    return ' '.join(re.sub(\"(@[A-Za-z0-9]+)|([^0-9A-Za-z \\t])|(\\w+:\\/\\/\\S+)\", \" \", tweet).split())"
   ]
  },
  {
   "cell_type": "code",
   "execution_count": 5,
   "metadata": {},
   "outputs": [
    {
     "data": {
      "text/plain": [
       "'Spotify takes a slice out of ‘unfair’ Apple tax https://t.co/zg8HyuYMi4 via @Hustle_Says'"
      ]
     },
     "execution_count": 5,
     "metadata": {},
     "output_type": "execute_result"
    }
   ],
   "source": [
    "example['tweetText'][1]"
   ]
  },
  {
   "cell_type": "code",
   "execution_count": 6,
   "metadata": {},
   "outputs": [
    {
     "data": {
      "text/plain": [
       "'Spotify takes a slice out of unfair Apple tax via Says'"
      ]
     },
     "execution_count": 6,
     "metadata": {},
     "output_type": "execute_result"
    }
   ],
   "source": [
    "clean_tweet(example['tweetText'][1])"
   ]
  },
  {
   "cell_type": "markdown",
   "metadata": {},
   "source": [
    "## Training Data\n",
    "\n",
    "The project team has collected a set of tweets about Youtube, Apple, Tesla, Florida Polytechnic, Wells Fargo, and Facebook. Each member is meant to go through this data and label them with one of four labels. After this is done the team will settle on a label for each. There is a lot of data to go through, and the team is actively working on this aspect of the project. The four labels we are using for the data is as follows:\n",
    "\n",
    "- Positive: The tweet is a positive one. The user may be complimenting the product or service.\n",
    "- Negative: The tweet has a negative tone. This may be an insult, a bad review of the product, or simply stating they don’t like the company.\n",
    "- Neutral: The poster doesn’t mind anyway. Could be informative tweets, or just tweets that don’t lean towards positive or negative.\n",
    "- Issue: Whenever there is a technical problem and a tweet is posted toward the subject with a solvable grievance. This does not include a technical problem with insults toward the subject, those count as negative."
   ]
  },
  {
   "cell_type": "markdown",
   "metadata": {},
   "source": [
    "## Sentiment\n",
    "\n",
    "We have elected to use the `TextBlob` package which is popular for implementing text mining in Python.\n",
    "We have created a very topical function that inputs tweet text and does sentiment analysis on it.\n",
    "It returns two numbers:\n",
    "- Sentiment Polarity: Which is a measure of how positive or negative the sentiment of a tweet is $-3 <= sentiment <= 3$ $-3$ is the most negative score and conversely $3$ is the most positive score.\n",
    "- Sentiment Subjectivity: This is a measure of how factual or subjective a tweet is. It's a percentage from $0 \\rightarrow 1$"
   ]
  },
  {
   "cell_type": "code",
   "execution_count": 7,
   "metadata": {},
   "outputs": [],
   "source": [
    "def get_sentiment(text):\n",
    "    tb = TextBlob(text)\n",
    "    return(tb.sentiment)"
   ]
  },
  {
   "cell_type": "code",
   "execution_count": 8,
   "metadata": {},
   "outputs": [
    {
     "data": {
      "text/html": [
       "<div>\n",
       "<style scoped>\n",
       "    .dataframe tbody tr th:only-of-type {\n",
       "        vertical-align: middle;\n",
       "    }\n",
       "\n",
       "    .dataframe tbody tr th {\n",
       "        vertical-align: top;\n",
       "    }\n",
       "\n",
       "    .dataframe thead th {\n",
       "        text-align: right;\n",
       "    }\n",
       "</style>\n",
       "<table border=\"1\" class=\"dataframe\">\n",
       "  <thead>\n",
       "    <tr style=\"text-align: right;\">\n",
       "      <th></th>\n",
       "      <th>tweetText</th>\n",
       "      <th>sentiment</th>\n",
       "    </tr>\n",
       "  </thead>\n",
       "  <tbody>\n",
       "    <tr>\n",
       "      <th>0</th>\n",
       "      <td>42mm 44mm HTF Rare Flat Silver/volt Nike Apple...</td>\n",
       "      <td>(0.13749999999999998, 0.5125)</td>\n",
       "    </tr>\n",
       "    <tr>\n",
       "      <th>1</th>\n",
       "      <td>Spotify takes a slice out of ‘unfair’ Apple ta...</td>\n",
       "      <td>(-0.5, 1.0)</td>\n",
       "    </tr>\n",
       "    <tr>\n",
       "      <th>2</th>\n",
       "      <td>@Matheus92217418 @Apple Valeu, manoooo!!</td>\n",
       "      <td>(0.0, 0.0)</td>\n",
       "    </tr>\n",
       "    <tr>\n",
       "      <th>3</th>\n",
       "      <td>Sister of One Direction singer Louis Tomlinson...</td>\n",
       "      <td>(-0.1, 0.4)</td>\n",
       "    </tr>\n",
       "    <tr>\n",
       "      <th>4</th>\n",
       "      <td>What the hell is Maple Apple Crumb Pie? https:...</td>\n",
       "      <td>(0.0, 0.0)</td>\n",
       "    </tr>\n",
       "  </tbody>\n",
       "</table>\n",
       "</div>"
      ],
      "text/plain": [
       "                                           tweetText  \\\n",
       "0  42mm 44mm HTF Rare Flat Silver/volt Nike Apple...   \n",
       "1  Spotify takes a slice out of ‘unfair’ Apple ta...   \n",
       "2           @Matheus92217418 @Apple Valeu, manoooo!!   \n",
       "3  Sister of One Direction singer Louis Tomlinson...   \n",
       "4  What the hell is Maple Apple Crumb Pie? https:...   \n",
       "\n",
       "                       sentiment  \n",
       "0  (0.13749999999999998, 0.5125)  \n",
       "1                    (-0.5, 1.0)  \n",
       "2                     (0.0, 0.0)  \n",
       "3                    (-0.1, 0.4)  \n",
       "4                     (0.0, 0.0)  "
      ]
     },
     "execution_count": 8,
     "metadata": {},
     "output_type": "execute_result"
    }
   ],
   "source": [
    "example['sentiment'] = example['tweetText'].apply(get_sentiment)\n",
    "example[['tweetText','sentiment']]"
   ]
  },
  {
   "cell_type": "markdown",
   "metadata": {},
   "source": [
    "## Conclusions\n",
    "\n",
    "The majority of the coding is done. We need to set up some pipelines that chain together the functions that we have created and then feed that data into a model for training. Once that is done work can start on building an interface for the work done to date.\n"
   ]
  }
 ],
 "metadata": {
  "kernelspec": {
   "display_name": "Python 3",
   "language": "python",
   "name": "python3"
  },
  "language_info": {
   "codemirror_mode": {
    "name": "ipython",
    "version": 3
   },
   "file_extension": ".py",
   "mimetype": "text/x-python",
   "name": "python",
   "nbconvert_exporter": "python",
   "pygments_lexer": "ipython3",
   "version": "3.7.1"
  }
 },
 "nbformat": 4,
 "nbformat_minor": 2
}
